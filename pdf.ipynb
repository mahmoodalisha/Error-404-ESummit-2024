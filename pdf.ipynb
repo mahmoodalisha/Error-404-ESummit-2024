{
 "cells": [
  {
   "cell_type": "code",
   "execution_count": 2,
   "id": "03c68132",
   "metadata": {},
   "outputs": [
    {
     "name": "stdout",
     "output_type": "stream",
     "text": [
      "Requirement already satisfied: langchain==0.2.6 in c:\\users\\wahidullah\\desktop\\error-404-esummit-2024\\law\\lib\\site-packages (from -r requirements.txt (line 1)) (0.2.6)Note: you may need to restart the kernel to use updated packages.\n",
      "\n",
      "Requirement already satisfied: langchain-core==0.2.10 in c:\\users\\wahidullah\\desktop\\error-404-esummit-2024\\law\\lib\\site-packages (from -r requirements.txt (line 2)) (0.2.10)\n",
      "Requirement already satisfied: langchain-text-splitters==0.2.2 in c:\\users\\wahidullah\\desktop\\error-404-esummit-2024\\law\\lib\\site-packages (from -r requirements.txt (line 3)) (0.2.2)\n",
      "Requirement already satisfied: sentence-transformers==3.0.1 in c:\\users\\wahidullah\\desktop\\error-404-esummit-2024\\law\\lib\\site-packages (from -r requirements.txt (line 4)) (3.0.1)\n",
      "Requirement already satisfied: langchain-community==0.2.6 in c:\\users\\wahidullah\\desktop\\error-404-esummit-2024\\law\\lib\\site-packages (from -r requirements.txt (line 5)) (0.2.6)\n",
      "Requirement already satisfied: faiss-cpu==1.8.0.post1 in c:\\users\\wahidullah\\desktop\\error-404-esummit-2024\\law\\lib\\site-packages (from -r requirements.txt (line 6)) (1.8.0.post1)\n",
      "Requirement already satisfied: numpy==1.26.4 in c:\\users\\wahidullah\\desktop\\error-404-esummit-2024\\law\\lib\\site-packages (from -r requirements.txt (line 7)) (1.26.4)\n",
      "Requirement already satisfied: langchain-google-genai==1.0.7 in c:\\users\\wahidullah\\desktop\\error-404-esummit-2024\\law\\lib\\site-packages (from -r requirements.txt (line 11)) (1.0.7)\n",
      "Requirement already satisfied: PyYAML>=5.3 in c:\\users\\wahidullah\\desktop\\error-404-esummit-2024\\law\\lib\\site-packages (from langchain==0.2.6->-r requirements.txt (line 1)) (6.0.2)\n",
      "Requirement already satisfied: SQLAlchemy<3,>=1.4 in c:\\users\\wahidullah\\desktop\\error-404-esummit-2024\\law\\lib\\site-packages (from langchain==0.2.6->-r requirements.txt (line 1)) (2.0.35)\n",
      "Requirement already satisfied: aiohttp<4.0.0,>=3.8.3 in c:\\users\\wahidullah\\desktop\\error-404-esummit-2024\\law\\lib\\site-packages (from langchain==0.2.6->-r requirements.txt (line 1)) (3.11.2)\n",
      "Requirement already satisfied: langsmith<0.2.0,>=0.1.17 in c:\\users\\wahidullah\\desktop\\error-404-esummit-2024\\law\\lib\\site-packages (from langchain==0.2.6->-r requirements.txt (line 1)) (0.1.143)\n",
      "Requirement already satisfied: pydantic<3,>=1 in c:\\users\\wahidullah\\desktop\\error-404-esummit-2024\\law\\lib\\site-packages (from langchain==0.2.6->-r requirements.txt (line 1)) (1.10.11)\n",
      "Requirement already satisfied: requests<3,>=2 in c:\\users\\wahidullah\\desktop\\error-404-esummit-2024\\law\\lib\\site-packages (from langchain==0.2.6->-r requirements.txt (line 1)) (2.32.3)\n",
      "Requirement already satisfied: tenacity!=8.4.0,<9.0.0,>=8.1.0 in c:\\users\\wahidullah\\desktop\\error-404-esummit-2024\\law\\lib\\site-packages (from langchain==0.2.6->-r requirements.txt (line 1)) (8.5.0)\n",
      "Requirement already satisfied: jsonpatch<2.0,>=1.33 in c:\\users\\wahidullah\\desktop\\error-404-esummit-2024\\law\\lib\\site-packages (from langchain-core==0.2.10->-r requirements.txt (line 2)) (1.33)\n",
      "Requirement already satisfied: packaging<25,>=23.2 in c:\\users\\wahidullah\\desktop\\error-404-esummit-2024\\law\\lib\\site-packages (from langchain-core==0.2.10->-r requirements.txt (line 2)) (24.2)\n",
      "Collecting pydantic<3,>=1 (from langchain==0.2.6->-r requirements.txt (line 1))\n",
      "  Using cached pydantic-2.9.2-py3-none-any.whl.metadata (149 kB)\n",
      "Requirement already satisfied: transformers<5.0.0,>=4.34.0 in c:\\users\\wahidullah\\desktop\\error-404-esummit-2024\\law\\lib\\site-packages (from sentence-transformers==3.0.1->-r requirements.txt (line 4)) (4.46.2)\n",
      "Requirement already satisfied: tqdm in c:\\users\\wahidullah\\desktop\\error-404-esummit-2024\\law\\lib\\site-packages (from sentence-transformers==3.0.1->-r requirements.txt (line 4)) (4.67.0)\n",
      "Requirement already satisfied: torch>=1.11.0 in c:\\users\\wahidullah\\desktop\\error-404-esummit-2024\\law\\lib\\site-packages (from sentence-transformers==3.0.1->-r requirements.txt (line 4)) (2.5.1)\n",
      "Requirement already satisfied: scikit-learn in c:\\users\\wahidullah\\desktop\\error-404-esummit-2024\\law\\lib\\site-packages (from sentence-transformers==3.0.1->-r requirements.txt (line 4)) (1.5.2)\n",
      "Requirement already satisfied: scipy in c:\\users\\wahidullah\\desktop\\error-404-esummit-2024\\law\\lib\\site-packages (from sentence-transformers==3.0.1->-r requirements.txt (line 4)) (1.14.1)\n",
      "Requirement already satisfied: huggingface-hub>=0.15.1 in c:\\users\\wahidullah\\desktop\\error-404-esummit-2024\\law\\lib\\site-packages (from sentence-transformers==3.0.1->-r requirements.txt (line 4)) (0.26.2)\n",
      "Requirement already satisfied: Pillow in c:\\users\\wahidullah\\desktop\\error-404-esummit-2024\\law\\lib\\site-packages (from sentence-transformers==3.0.1->-r requirements.txt (line 4)) (11.0.0)\n",
      "Requirement already satisfied: dataclasses-json<0.7,>=0.5.7 in c:\\users\\wahidullah\\desktop\\error-404-esummit-2024\\law\\lib\\site-packages (from langchain-community==0.2.6->-r requirements.txt (line 5)) (0.6.7)\n",
      "Requirement already satisfied: google-generativeai<0.8.0,>=0.7.0 in c:\\users\\wahidullah\\desktop\\error-404-esummit-2024\\law\\lib\\site-packages (from langchain-google-genai==1.0.7->-r requirements.txt (line 11)) (0.7.2)\n",
      "Requirement already satisfied: aiohappyeyeballs>=2.3.0 in c:\\users\\wahidullah\\desktop\\error-404-esummit-2024\\law\\lib\\site-packages (from aiohttp<4.0.0,>=3.8.3->langchain==0.2.6->-r requirements.txt (line 1)) (2.4.3)\n",
      "Requirement already satisfied: aiosignal>=1.1.2 in c:\\users\\wahidullah\\desktop\\error-404-esummit-2024\\law\\lib\\site-packages (from aiohttp<4.0.0,>=3.8.3->langchain==0.2.6->-r requirements.txt (line 1)) (1.3.1)\n",
      "Requirement already satisfied: attrs>=17.3.0 in c:\\users\\wahidullah\\desktop\\error-404-esummit-2024\\law\\lib\\site-packages (from aiohttp<4.0.0,>=3.8.3->langchain==0.2.6->-r requirements.txt (line 1)) (24.2.0)\n",
      "Requirement already satisfied: frozenlist>=1.1.1 in c:\\users\\wahidullah\\desktop\\error-404-esummit-2024\\law\\lib\\site-packages (from aiohttp<4.0.0,>=3.8.3->langchain==0.2.6->-r requirements.txt (line 1)) (1.5.0)\n",
      "Requirement already satisfied: multidict<7.0,>=4.5 in c:\\users\\wahidullah\\desktop\\error-404-esummit-2024\\law\\lib\\site-packages (from aiohttp<4.0.0,>=3.8.3->langchain==0.2.6->-r requirements.txt (line 1)) (6.1.0)\n",
      "Requirement already satisfied: propcache>=0.2.0 in c:\\users\\wahidullah\\desktop\\error-404-esummit-2024\\law\\lib\\site-packages (from aiohttp<4.0.0,>=3.8.3->langchain==0.2.6->-r requirements.txt (line 1)) (0.2.0)\n",
      "Requirement already satisfied: yarl<2.0,>=1.17.0 in c:\\users\\wahidullah\\desktop\\error-404-esummit-2024\\law\\lib\\site-packages (from aiohttp<4.0.0,>=3.8.3->langchain==0.2.6->-r requirements.txt (line 1)) (1.17.1)\n",
      "Requirement already satisfied: marshmallow<4.0.0,>=3.18.0 in c:\\users\\wahidullah\\desktop\\error-404-esummit-2024\\law\\lib\\site-packages (from dataclasses-json<0.7,>=0.5.7->langchain-community==0.2.6->-r requirements.txt (line 5)) (3.23.1)\n",
      "Requirement already satisfied: typing-inspect<1,>=0.4.0 in c:\\users\\wahidullah\\desktop\\error-404-esummit-2024\\law\\lib\\site-packages (from dataclasses-json<0.7,>=0.5.7->langchain-community==0.2.6->-r requirements.txt (line 5)) (0.9.0)\n",
      "Requirement already satisfied: google-ai-generativelanguage==0.6.6 in c:\\users\\wahidullah\\desktop\\error-404-esummit-2024\\law\\lib\\site-packages (from google-generativeai<0.8.0,>=0.7.0->langchain-google-genai==1.0.7->-r requirements.txt (line 11)) (0.6.6)\n",
      "Requirement already satisfied: google-api-core in c:\\users\\wahidullah\\desktop\\error-404-esummit-2024\\law\\lib\\site-packages (from google-generativeai<0.8.0,>=0.7.0->langchain-google-genai==1.0.7->-r requirements.txt (line 11)) (2.23.0)\n",
      "Requirement already satisfied: google-api-python-client in c:\\users\\wahidullah\\desktop\\error-404-esummit-2024\\law\\lib\\site-packages (from google-generativeai<0.8.0,>=0.7.0->langchain-google-genai==1.0.7->-r requirements.txt (line 11)) (2.153.0)\n",
      "Requirement already satisfied: google-auth>=2.15.0 in c:\\users\\wahidullah\\desktop\\error-404-esummit-2024\\law\\lib\\site-packages (from google-generativeai<0.8.0,>=0.7.0->langchain-google-genai==1.0.7->-r requirements.txt (line 11)) (2.36.0)\n",
      "Requirement already satisfied: protobuf in c:\\users\\wahidullah\\desktop\\error-404-esummit-2024\\law\\lib\\site-packages (from google-generativeai<0.8.0,>=0.7.0->langchain-google-genai==1.0.7->-r requirements.txt (line 11)) (4.25.5)\n",
      "Requirement already satisfied: typing-extensions in c:\\users\\wahidullah\\desktop\\error-404-esummit-2024\\law\\lib\\site-packages (from google-generativeai<0.8.0,>=0.7.0->langchain-google-genai==1.0.7->-r requirements.txt (line 11)) (4.12.2)\n",
      "Requirement already satisfied: proto-plus<2.0.0dev,>=1.22.3 in c:\\users\\wahidullah\\desktop\\error-404-esummit-2024\\law\\lib\\site-packages (from google-ai-generativelanguage==0.6.6->google-generativeai<0.8.0,>=0.7.0->langchain-google-genai==1.0.7->-r requirements.txt (line 11)) (1.25.0)\n",
      "Requirement already satisfied: filelock in c:\\users\\wahidullah\\desktop\\error-404-esummit-2024\\law\\lib\\site-packages (from huggingface-hub>=0.15.1->sentence-transformers==3.0.1->-r requirements.txt (line 4)) (3.16.1)\n",
      "Requirement already satisfied: fsspec>=2023.5.0 in c:\\users\\wahidullah\\desktop\\error-404-esummit-2024\\law\\lib\\site-packages (from huggingface-hub>=0.15.1->sentence-transformers==3.0.1->-r requirements.txt (line 4)) (2024.10.0)\n",
      "Requirement already satisfied: jsonpointer>=1.9 in c:\\users\\wahidullah\\desktop\\error-404-esummit-2024\\law\\lib\\site-packages (from jsonpatch<2.0,>=1.33->langchain-core==0.2.10->-r requirements.txt (line 2)) (3.0.0)\n",
      "Requirement already satisfied: httpx<1,>=0.23.0 in c:\\users\\wahidullah\\desktop\\error-404-esummit-2024\\law\\lib\\site-packages (from langsmith<0.2.0,>=0.1.17->langchain==0.2.6->-r requirements.txt (line 1)) (0.27.2)\n",
      "Requirement already satisfied: orjson<4.0.0,>=3.9.14 in c:\\users\\wahidullah\\desktop\\error-404-esummit-2024\\law\\lib\\site-packages (from langsmith<0.2.0,>=0.1.17->langchain==0.2.6->-r requirements.txt (line 1)) (3.10.11)\n",
      "Requirement already satisfied: requests-toolbelt<2.0.0,>=1.0.0 in c:\\users\\wahidullah\\desktop\\error-404-esummit-2024\\law\\lib\\site-packages (from langsmith<0.2.0,>=0.1.17->langchain==0.2.6->-r requirements.txt (line 1)) (1.0.0)\n",
      "Requirement already satisfied: annotated-types>=0.6.0 in c:\\users\\wahidullah\\desktop\\error-404-esummit-2024\\law\\lib\\site-packages (from pydantic<3,>=1->langchain==0.2.6->-r requirements.txt (line 1)) (0.7.0)\n",
      "Requirement already satisfied: pydantic-core==2.23.4 in c:\\users\\wahidullah\\desktop\\error-404-esummit-2024\\law\\lib\\site-packages (from pydantic<3,>=1->langchain==0.2.6->-r requirements.txt (line 1)) (2.23.4)\n",
      "Requirement already satisfied: charset-normalizer<4,>=2 in c:\\users\\wahidullah\\desktop\\error-404-esummit-2024\\law\\lib\\site-packages (from requests<3,>=2->langchain==0.2.6->-r requirements.txt (line 1)) (3.4.0)\n",
      "Requirement already satisfied: idna<4,>=2.5 in c:\\users\\wahidullah\\desktop\\error-404-esummit-2024\\law\\lib\\site-packages (from requests<3,>=2->langchain==0.2.6->-r requirements.txt (line 1)) (3.10)\n",
      "Requirement already satisfied: urllib3<3,>=1.21.1 in c:\\users\\wahidullah\\desktop\\error-404-esummit-2024\\law\\lib\\site-packages (from requests<3,>=2->langchain==0.2.6->-r requirements.txt (line 1)) (2.2.3)\n",
      "Requirement already satisfied: certifi>=2017.4.17 in c:\\users\\wahidullah\\desktop\\error-404-esummit-2024\\law\\lib\\site-packages (from requests<3,>=2->langchain==0.2.6->-r requirements.txt (line 1)) (2024.8.30)\n",
      "Requirement already satisfied: greenlet!=0.4.17 in c:\\users\\wahidullah\\desktop\\error-404-esummit-2024\\law\\lib\\site-packages (from SQLAlchemy<3,>=1.4->langchain==0.2.6->-r requirements.txt (line 1)) (3.1.1)\n",
      "Requirement already satisfied: networkx in c:\\users\\wahidullah\\desktop\\error-404-esummit-2024\\law\\lib\\site-packages (from torch>=1.11.0->sentence-transformers==3.0.1->-r requirements.txt (line 4)) (3.4.2)\n",
      "Requirement already satisfied: jinja2 in c:\\users\\wahidullah\\desktop\\error-404-esummit-2024\\law\\lib\\site-packages (from torch>=1.11.0->sentence-transformers==3.0.1->-r requirements.txt (line 4)) (3.1.4)\n",
      "Requirement already satisfied: setuptools in c:\\users\\wahidullah\\desktop\\error-404-esummit-2024\\law\\lib\\site-packages (from torch>=1.11.0->sentence-transformers==3.0.1->-r requirements.txt (line 4)) (75.5.0)\n",
      "Requirement already satisfied: sympy==1.13.1 in c:\\users\\wahidullah\\desktop\\error-404-esummit-2024\\law\\lib\\site-packages (from torch>=1.11.0->sentence-transformers==3.0.1->-r requirements.txt (line 4)) (1.13.1)\n",
      "Requirement already satisfied: mpmath<1.4,>=1.1.0 in c:\\users\\wahidullah\\desktop\\error-404-esummit-2024\\law\\lib\\site-packages (from sympy==1.13.1->torch>=1.11.0->sentence-transformers==3.0.1->-r requirements.txt (line 4)) (1.3.0)\n",
      "Requirement already satisfied: colorama in c:\\users\\wahidullah\\desktop\\error-404-esummit-2024\\law\\lib\\site-packages (from tqdm->sentence-transformers==3.0.1->-r requirements.txt (line 4)) (0.4.6)\n",
      "Requirement already satisfied: regex!=2019.12.17 in c:\\users\\wahidullah\\desktop\\error-404-esummit-2024\\law\\lib\\site-packages (from transformers<5.0.0,>=4.34.0->sentence-transformers==3.0.1->-r requirements.txt (line 4)) (2024.11.6)\n",
      "Requirement already satisfied: safetensors>=0.4.1 in c:\\users\\wahidullah\\desktop\\error-404-esummit-2024\\law\\lib\\site-packages (from transformers<5.0.0,>=4.34.0->sentence-transformers==3.0.1->-r requirements.txt (line 4)) (0.4.5)\n",
      "Requirement already satisfied: tokenizers<0.21,>=0.20 in c:\\users\\wahidullah\\desktop\\error-404-esummit-2024\\law\\lib\\site-packages (from transformers<5.0.0,>=4.34.0->sentence-transformers==3.0.1->-r requirements.txt (line 4)) (0.20.3)\n",
      "Requirement already satisfied: joblib>=1.2.0 in c:\\users\\wahidullah\\desktop\\error-404-esummit-2024\\law\\lib\\site-packages (from scikit-learn->sentence-transformers==3.0.1->-r requirements.txt (line 4)) (1.4.2)\n",
      "Requirement already satisfied: threadpoolctl>=3.1.0 in c:\\users\\wahidullah\\desktop\\error-404-esummit-2024\\law\\lib\\site-packages (from scikit-learn->sentence-transformers==3.0.1->-r requirements.txt (line 4)) (3.5.0)\n",
      "Requirement already satisfied: googleapis-common-protos<2.0.dev0,>=1.56.2 in c:\\users\\wahidullah\\desktop\\error-404-esummit-2024\\law\\lib\\site-packages (from google-api-core->google-generativeai<0.8.0,>=0.7.0->langchain-google-genai==1.0.7->-r requirements.txt (line 11)) (1.66.0)\n",
      "Requirement already satisfied: cachetools<6.0,>=2.0.0 in c:\\users\\wahidullah\\desktop\\error-404-esummit-2024\\law\\lib\\site-packages (from google-auth>=2.15.0->google-generativeai<0.8.0,>=0.7.0->langchain-google-genai==1.0.7->-r requirements.txt (line 11)) (5.5.0)\n",
      "Requirement already satisfied: pyasn1-modules>=0.2.1 in c:\\users\\wahidullah\\desktop\\error-404-esummit-2024\\law\\lib\\site-packages (from google-auth>=2.15.0->google-generativeai<0.8.0,>=0.7.0->langchain-google-genai==1.0.7->-r requirements.txt (line 11)) (0.4.1)\n",
      "Requirement already satisfied: rsa<5,>=3.1.4 in c:\\users\\wahidullah\\desktop\\error-404-esummit-2024\\law\\lib\\site-packages (from google-auth>=2.15.0->google-generativeai<0.8.0,>=0.7.0->langchain-google-genai==1.0.7->-r requirements.txt (line 11)) (4.9)\n",
      "Requirement already satisfied: anyio in c:\\users\\wahidullah\\desktop\\error-404-esummit-2024\\law\\lib\\site-packages (from httpx<1,>=0.23.0->langsmith<0.2.0,>=0.1.17->langchain==0.2.6->-r requirements.txt (line 1)) (4.6.2.post1)\n",
      "Requirement already satisfied: httpcore==1.* in c:\\users\\wahidullah\\desktop\\error-404-esummit-2024\\law\\lib\\site-packages (from httpx<1,>=0.23.0->langsmith<0.2.0,>=0.1.17->langchain==0.2.6->-r requirements.txt (line 1)) (1.0.7)\n",
      "Requirement already satisfied: sniffio in c:\\users\\wahidullah\\desktop\\error-404-esummit-2024\\law\\lib\\site-packages (from httpx<1,>=0.23.0->langsmith<0.2.0,>=0.1.17->langchain==0.2.6->-r requirements.txt (line 1)) (1.3.1)\n",
      "Requirement already satisfied: h11<0.15,>=0.13 in c:\\users\\wahidullah\\desktop\\error-404-esummit-2024\\law\\lib\\site-packages (from httpcore==1.*->httpx<1,>=0.23.0->langsmith<0.2.0,>=0.1.17->langchain==0.2.6->-r requirements.txt (line 1)) (0.14.0)\n",
      "Requirement already satisfied: mypy-extensions>=0.3.0 in c:\\users\\wahidullah\\desktop\\error-404-esummit-2024\\law\\lib\\site-packages (from typing-inspect<1,>=0.4.0->dataclasses-json<0.7,>=0.5.7->langchain-community==0.2.6->-r requirements.txt (line 5)) (1.0.0)\n",
      "Requirement already satisfied: httplib2<1.dev0,>=0.19.0 in c:\\users\\wahidullah\\desktop\\error-404-esummit-2024\\law\\lib\\site-packages (from google-api-python-client->google-generativeai<0.8.0,>=0.7.0->langchain-google-genai==1.0.7->-r requirements.txt (line 11)) (0.22.0)\n",
      "Requirement already satisfied: google-auth-httplib2<1.0.0,>=0.2.0 in c:\\users\\wahidullah\\desktop\\error-404-esummit-2024\\law\\lib\\site-packages (from google-api-python-client->google-generativeai<0.8.0,>=0.7.0->langchain-google-genai==1.0.7->-r requirements.txt (line 11)) (0.2.0)\n",
      "Requirement already satisfied: uritemplate<5,>=3.0.1 in c:\\users\\wahidullah\\desktop\\error-404-esummit-2024\\law\\lib\\site-packages (from google-api-python-client->google-generativeai<0.8.0,>=0.7.0->langchain-google-genai==1.0.7->-r requirements.txt (line 11)) (4.1.1)\n",
      "Requirement already satisfied: MarkupSafe>=2.0 in c:\\users\\wahidullah\\desktop\\error-404-esummit-2024\\law\\lib\\site-packages (from jinja2->torch>=1.11.0->sentence-transformers==3.0.1->-r requirements.txt (line 4)) (3.0.2)\n",
      "Requirement already satisfied: grpcio<2.0dev,>=1.33.2 in c:\\users\\wahidullah\\desktop\\error-404-esummit-2024\\law\\lib\\site-packages (from google-api-core[grpc]!=2.0.*,!=2.1.*,!=2.10.*,!=2.2.*,!=2.3.*,!=2.4.*,!=2.5.*,!=2.6.*,!=2.7.*,!=2.8.*,!=2.9.*,<3.0.0dev,>=1.34.1->google-ai-generativelanguage==0.6.6->google-generativeai<0.8.0,>=0.7.0->langchain-google-genai==1.0.7->-r requirements.txt (line 11)) (1.68.0)\n",
      "Requirement already satisfied: grpcio-status<2.0.dev0,>=1.33.2 in c:\\users\\wahidullah\\desktop\\error-404-esummit-2024\\law\\lib\\site-packages (from google-api-core[grpc]!=2.0.*,!=2.1.*,!=2.10.*,!=2.2.*,!=2.3.*,!=2.4.*,!=2.5.*,!=2.6.*,!=2.7.*,!=2.8.*,!=2.9.*,<3.0.0dev,>=1.34.1->google-ai-generativelanguage==0.6.6->google-generativeai<0.8.0,>=0.7.0->langchain-google-genai==1.0.7->-r requirements.txt (line 11)) (1.62.3)\n",
      "Requirement already satisfied: pyparsing!=3.0.0,!=3.0.1,!=3.0.2,!=3.0.3,<4,>=2.4.2 in c:\\users\\wahidullah\\desktop\\error-404-esummit-2024\\law\\lib\\site-packages (from httplib2<1.dev0,>=0.19.0->google-api-python-client->google-generativeai<0.8.0,>=0.7.0->langchain-google-genai==1.0.7->-r requirements.txt (line 11)) (3.2.0)\n",
      "Requirement already satisfied: pyasn1<0.7.0,>=0.4.6 in c:\\users\\wahidullah\\desktop\\error-404-esummit-2024\\law\\lib\\site-packages (from pyasn1-modules>=0.2.1->google-auth>=2.15.0->google-generativeai<0.8.0,>=0.7.0->langchain-google-genai==1.0.7->-r requirements.txt (line 11)) (0.6.1)\n",
      "Using cached pydantic-2.9.2-py3-none-any.whl (434 kB)\n",
      "Installing collected packages: pydantic\n",
      "  Attempting uninstall: pydantic\n",
      "    Found existing installation: pydantic 1.10.11\n",
      "    Uninstalling pydantic-1.10.11:\n",
      "      Successfully uninstalled pydantic-1.10.11\n",
      "Successfully installed pydantic-2.9.2\n"
     ]
    },
    {
     "name": "stderr",
     "output_type": "stream",
     "text": [
      "\n",
      "[notice] A new release of pip is available: 24.0 -> 24.3.1\n",
      "[notice] To update, run: python.exe -m pip install --upgrade pip\n"
     ]
    }
   ],
   "source": [
    "pip install -r requirements.txt\n"
   ]
  },
  {
   "cell_type": "code",
   "execution_count": 3,
   "id": "020511c6",
   "metadata": {},
   "outputs": [],
   "source": [
    "from pypdf import PdfReader\n",
    "import re\n",
    "\n",
    "def load_pdf(file_path):\n",
    "    \"\"\"\n",
    "    Reads the text content from a PDF file and returns it as a single string.\n",
    "\n",
    "    Parameters:\n",
    "    - file_path (str): The file path to the PDF file.\n",
    "\n",
    "    Returns:\n",
    "    - str: The concatenated text content of all pages in the PDF.\n",
    "    \"\"\"\n",
    "    reader = PdfReader(file_path)\n",
    "    \n",
    "    text = \"\"\n",
    "    for page in reader.pages:\n",
    "        text += page.extract_text()\n",
    "\n",
    "    return text\n",
    "\n",
    "pdf_text = load_pdf(file_path=\"constituion-pdf.pdf\")"
   ]
  },
  {
   "cell_type": "code",
   "execution_count": 4,
   "id": "674d96e4",
   "metadata": {},
   "outputs": [],
   "source": [
    "def save_text_to_file(text, output_file_path):\n",
    "    \"\"\"\n",
    "    Saves the given text to a text file.\n",
    "\n",
    "    Parameters:\n",
    "    - text (str): The text content to save.\n",
    "    - output_file_path (str): The file path where the text will be saved.\n",
    "    \"\"\"\n",
    "    with open(output_file_path, \"w\", encoding=\"utf-8\") as file:\n",
    "        file.write(text)"
   ]
  },
  {
   "cell_type": "code",
   "execution_count": 5,
   "id": "5b7d2686",
   "metadata": {},
   "outputs": [],
   "source": [
    "save_text_to_file(text=pdf_text, output_file_path=\"output.txt\")"
   ]
  },
  {
   "cell_type": "code",
   "execution_count": 6,
   "id": "43b95514",
   "metadata": {},
   "outputs": [
    {
     "name": "stdout",
     "output_type": "stream",
     "text": [
      "1227\n",
      "1227\n"
     ]
    }
   ],
   "source": [
    "from hide import hf_api\n",
    "inference_api_key = hf_api\n",
    "\n",
    "from langchain_community.document_loaders import TextLoader\n",
    "from langchain_community.vectorstores import FAISS\n",
    "from langchain_community.embeddings import HuggingFaceInferenceAPIEmbeddings\n",
    "from langchain_text_splitters import CharacterTextSplitter, RecursiveCharacterTextSplitter\n",
    "\n",
    "loader = TextLoader(\"output.txt\", encoding=\"utf-8\")\n",
    "documents = loader.load()\n",
    "text_splitter = RecursiveCharacterTextSplitter(chunk_size=1000, chunk_overlap=300, length_function=len)\n",
    "docs = text_splitter.split_documents(documents)\n",
    "print(len(docs))\n",
    "embeddings = HuggingFaceInferenceAPIEmbeddings(\n",
    "    api_key=inference_api_key, model_name=\"sentence-transformers/all-MiniLM-l6-v2\"\n",
    ")\n",
    "db = FAISS.from_documents(docs, embeddings)\n",
    "print(db.index.ntotal)\n",
    "\n",
    "db.save_local(\"faiss_index_law\")"
   ]
  }
 ],
 "metadata": {
  "kernelspec": {
   "display_name": "law",
   "language": "python",
   "name": "python3"
  },
  "language_info": {
   "codemirror_mode": {
    "name": "ipython",
    "version": 3
   },
   "file_extension": ".py",
   "mimetype": "text/x-python",
   "name": "python",
   "nbconvert_exporter": "python",
   "pygments_lexer": "ipython3",
   "version": "3.12.4"
  }
 },
 "nbformat": 4,
 "nbformat_minor": 5
}
